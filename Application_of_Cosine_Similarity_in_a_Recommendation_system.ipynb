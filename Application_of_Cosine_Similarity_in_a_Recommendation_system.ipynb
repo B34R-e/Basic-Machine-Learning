{
  "nbformat": 4,
  "nbformat_minor": 0,
  "metadata": {
    "colab": {
      "provenance": [],
      "include_colab_link": true
    },
    "kernelspec": {
      "name": "python3",
      "display_name": "Python 3"
    },
    "language_info": {
      "name": "python"
    }
  },
  "cells": [
    {
      "cell_type": "markdown",
      "metadata": {
        "id": "view-in-github",
        "colab_type": "text"
      },
      "source": [
        "<a href=\"https://colab.research.google.com/github/B34R-e/Basic-Machine-Learning/blob/main/Application_of_Cosine_Similarity_in_a_Recommendation_system.ipynb\" target=\"_parent\"><img src=\"https://colab.research.google.com/assets/colab-badge.svg\" alt=\"Open In Colab\"/></a>"
      ]
    },
    {
      "cell_type": "code",
      "source": [
        "import numpy as np\n",
        "import math\n",
        "\n",
        "Laptop = 1\n",
        "Tablet = 2\n",
        "Headphones = 3\n",
        "Keyboard = 4\n",
        "Mouse = 5\n",
        "\n",
        "Alice = np.array([Tablet, Laptop, Headphones, Mouse, Keyboard, Laptop, Headphones, Headphones, Mouse, Tablet])\n",
        "Bob = np.array([Mouse, Laptop, Tablet, Laptop, Keyboard])\n",
        "Carol = np.array([Tablet, Laptop, Keyboard, Headphones, Headphones])"
      ],
      "metadata": {
        "id": "naB4yP9A3xhr"
      },
      "execution_count": null,
      "outputs": []
    },
    {
      "cell_type": "code",
      "source": [
        "import numpy as np\n",
        "import math\n",
        "\n",
        "Laptop = 1\n",
        "Tablet = 2\n",
        "Headphones = 3\n",
        "Keyboard = 4\n",
        "Mouse = 5\n",
        "\n",
        "Alice = np.array([Tablet, Laptop, Headphones, Mouse, Keyboard, Laptop, Headphones, Headphones, Mouse, Tablet])\n",
        "Bob = np.array([Mouse, Laptop, Tablet, Laptop, Keyboard])\n",
        "Carol = np.array([Tablet, Laptop, Keyboard, Headphones, Headphones])"
      ],
      "metadata": {
        "id": "K-hQD_-AjVnz"
      },
      "execution_count": null,
      "outputs": []
    },
    {
      "cell_type": "code",
      "source": [
        "def slicing(list, number_of_slices):\n",
        "  list_of_slices = []\n",
        "  for i in range(len(list) - number_of_slices):\n",
        "    list_of_slices.append(list[i : i + number_of_slices])\n",
        "  return list_of_slices\n",
        "\n",
        "slicing(Alice, 5)"
      ],
      "metadata": {
        "colab": {
          "base_uri": "https://localhost:8080/"
        },
        "outputId": "d92a88c4-52b0-4d19-dcaa-43f8c08f3c14",
        "id": "iVw8ISAJjVn0"
      },
      "execution_count": null,
      "outputs": [
        {
          "output_type": "execute_result",
          "data": {
            "text/plain": [
              "[array([2, 1, 3, 5, 4]),\n",
              " array([1, 3, 5, 4, 1]),\n",
              " array([3, 5, 4, 1, 3]),\n",
              " array([5, 4, 1, 3, 3]),\n",
              " array([4, 1, 3, 3, 5])]"
            ]
          },
          "metadata": {},
          "execution_count": 19
        }
      ]
    },
    {
      "cell_type": "code",
      "source": [
        "from numpy.linalg import norm\n",
        "def calc_cosine_using_formula(X, Y):\n",
        "  return (X.dot(Y)) / (norm(X) * norm(Y))"
      ],
      "metadata": {
        "id": "yk3LX3a3jVn0"
      },
      "execution_count": null,
      "outputs": []
    },
    {
      "cell_type": "code",
      "source": [
        "cosine_similarity_of_Bob_to_Alice = []\n",
        "for each in slicing(Alice, 5):\n",
        "  cosine_similarity_of_Bob_to_Alice.append(calc_cosine_using_formula(Bob, each))\n",
        "\n",
        "print(cosine_similarity_of_Bob_to_Alice)"
      ],
      "metadata": {
        "colab": {
          "base_uri": "https://localhost:8080/"
        },
        "outputId": "22729deb-5cda-47b8-958e-b2f465fb776a",
        "id": "k9PXJmRXjVn1"
      },
      "execution_count": null,
      "outputs": [
        {
          "output_type": "stream",
          "name": "stdout",
          "text": [
            "[0.747400394766227, 0.5259237061407777, 0.7720746665835772, 0.8662301137279158, 0.9415544714433868]\n"
          ]
        }
      ]
    },
    {
      "cell_type": "code",
      "source": [
        "cosine_similarity_of_Carol_to_Alice = []\n",
        "for each in slicing(Alice, 5):\n",
        "  cosine_similarity_of_Carol_to_Alice.append(calc_cosine_using_formula(each, Carol))\n",
        "\n",
        "print(cosine_similarity_of_Carol_to_Alice)"
      ],
      "metadata": {
        "colab": {
          "base_uri": "https://localhost:8080/"
        },
        "outputId": "a422c6bb-12d8-4648-c3fc-46b460dbd760",
        "id": "lflgWKTijVn2"
      },
      "execution_count": null,
      "outputs": [
        {
          "output_type": "stream",
          "name": "stdout",
          "text": [
            "[0.950033737592567, 0.8882311833686551, 0.8062257748298549, 0.7442084075352506, 0.9302605094190634]\n"
          ]
        }
      ]
    },
    {
      "cell_type": "code",
      "source": [
        "def slicing(list, number_of_slices):\n",
        "  list_of_slices = []\n",
        "  for i in range(len(list) - number_of_slices):\n",
        "    list_of_slices.append(list[i : i + number_of_slices])\n",
        "  return list_of_slices\n",
        "\n",
        "slicing(Alice, 5)"
      ],
      "metadata": {
        "colab": {
          "base_uri": "https://localhost:8080/"
        },
        "id": "wzBvwmOKYv96",
        "outputId": "2ae4fe95-4028-4268-fd56-497f85a789ee"
      },
      "execution_count": null,
      "outputs": [
        {
          "output_type": "execute_result",
          "data": {
            "text/plain": [
              "[array([2, 1, 3, 5, 4]),\n",
              " array([1, 3, 5, 4, 1]),\n",
              " array([3, 5, 4, 1, 3]),\n",
              " array([5, 4, 1, 3, 3]),\n",
              " array([4, 1, 3, 3, 5])]"
            ]
          },
          "metadata": {},
          "execution_count": 2
        }
      ]
    },
    {
      "cell_type": "code",
      "source": [
        "from numpy.linalg import norm\n",
        "def calc_cosine_using_formula(X, Y):\n",
        "  return (X.dot(Y)) / (norm(X) * norm(Y))"
      ],
      "metadata": {
        "id": "AYcJMfMmaKhh"
      },
      "execution_count": null,
      "outputs": []
    },
    {
      "cell_type": "code",
      "source": [
        "cosine_similarity_of_Bob_to_Alice = []\n",
        "for each in slicing(Alice, 5):\n",
        "  cosine_similarity_of_Bob_to_Alice.append(calc_cosine_using_formula(Bob, each))\n",
        "\n",
        "print(cosine_similarity_of_Bob_to_Alice)"
      ],
      "metadata": {
        "colab": {
          "base_uri": "https://localhost:8080/"
        },
        "id": "TFMJVacxaT0j",
        "outputId": "207662ce-96d5-41a4-c7d7-0fec05b3b69d"
      },
      "execution_count": null,
      "outputs": [
        {
          "output_type": "stream",
          "name": "stdout",
          "text": [
            "[0.747400394766227, 0.5259237061407777, 0.7720746665835772, 0.8662301137279158, 0.9415544714433868]\n"
          ]
        }
      ]
    },
    {
      "cell_type": "code",
      "source": [
        "cosine_similarity_of_Carol_to_Alice = []\n",
        "for each in slicing(Alice, 5):\n",
        "  cosine_similarity_of_Carol_to_Alice.append(calc_cosine_using_formula(each, Carol))\n",
        "\n",
        "print(cosine_similarity_of_Carol_to_Alice)"
      ],
      "metadata": {
        "colab": {
          "base_uri": "https://localhost:8080/"
        },
        "id": "VoRVMmebarng",
        "outputId": "93d12b5c-7840-47ca-c127-6b092f382fef"
      },
      "execution_count": null,
      "outputs": [
        {
          "output_type": "stream",
          "name": "stdout",
          "text": [
            "[0.950033737592567, 0.8882311833686551, 0.8062257748298549, 0.7442084075352506, 0.9302605094190634]\n"
          ]
        }
      ]
    }
  ]
}