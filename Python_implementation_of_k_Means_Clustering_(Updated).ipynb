{
  "nbformat": 4,
  "nbformat_minor": 0,
  "metadata": {
    "colab": {
      "provenance": [],
      "authorship_tag": "ABX9TyPE0WlxDz0Dc44WRgj/sgI/",
      "include_colab_link": true
    },
    "kernelspec": {
      "name": "python3",
      "display_name": "Python 3"
    },
    "language_info": {
      "name": "python"
    }
  },
  "cells": [
    {
      "cell_type": "markdown",
      "metadata": {
        "id": "view-in-github",
        "colab_type": "text"
      },
      "source": [
        "<a href=\"https://colab.research.google.com/github/B34R-e/Basic-Machine-Learning/blob/main/Python_implementation_of_k_Means_Clustering_(Updated).ipynb\" target=\"_parent\"><img src=\"https://colab.research.google.com/assets/colab-badge.svg\" alt=\"Open In Colab\"/></a>"
      ]
    },
    {
      "cell_type": "code",
      "execution_count": 30,
      "metadata": {
        "id": "-9_jLHVyMnNF"
      },
      "outputs": [],
      "source": [
        "import numpy as np\n",
        "from numpy.linalg import norm\n",
        "import math"
      ]
    },
    {
      "cell_type": "code",
      "source": [
        "def dot_product(a, b):\n",
        "  if len(a) != len(b):\n",
        "    print(f'Error: The vector {a} and {b} are not of the same length')\n",
        "    return None\n",
        "  result = 0\n",
        "  for i in range(len(a)):\n",
        "    result += a[i] * b[i]\n",
        "  return result"
      ],
      "metadata": {
        "id": "z5o0IknKNFdN"
      },
      "execution_count": 31,
      "outputs": []
    },
    {
      "cell_type": "code",
      "source": [
        "def vectorized_dot_product(a, b):\n",
        "  a = np.array(a)\n",
        "  b = np.array(b)\n",
        "  try:\n",
        "    return a.dot(b)\n",
        "  except:\n",
        "    print(f'Error: The vector {a} and {b} are not of the same length')\n",
        "    return None"
      ],
      "metadata": {
        "id": "OzBcuR_YNmR6"
      },
      "execution_count": 32,
      "outputs": []
    },
    {
      "cell_type": "code",
      "source": [
        "def initialized_centroids(X, k):\n",
        "  # randomly pick k indices from range(len(X))\n",
        "  indices = np.random.choice(len(X), k)\n",
        "\n",
        "  # return the data points at the chosen indices as centroids\n",
        "  return [X[i] for i in indices]"
      ],
      "metadata": {
        "id": "HT4Qz7KJN_x_"
      },
      "execution_count": 34,
      "outputs": []
    },
    {
      "cell_type": "code",
      "source": [
        "# def assign_points_to_clusters(X, centroids):\n",
        "#   # caculate distances between data points and centroids\n",
        "#   distances = np.sqrt(((X[: np.newaxis] - centroids) ** 2).sum(axis = 2))\n",
        "\n",
        "#   # get the index of the closest centroid for each data point\n",
        "#   assignment = np.argmin()\n",
        "#   return assignment"
      ],
      "metadata": {
        "id": "ReKsj1I0UtSV"
      },
      "execution_count": null,
      "outputs": []
    },
    {
      "cell_type": "code",
      "source": [
        "def assign_points_to_clusters(X, centroids):\n",
        "  # caculate distances between data points and centroids\n",
        "  distances = [[norm(X[i] - centroids[ii]) for ii in range(len(centroids))] for i in range(len(X))]\n",
        "\n",
        "  # get the index of the closest centroid for each data point\n",
        "  assignment = [distances[i].index(min(distances[i])) for i in range(len(distances))]\n",
        "  return assignment"
      ],
      "metadata": {
        "id": "5wRB5kYtOe2g"
      },
      "execution_count": 38,
      "outputs": []
    },
    {
      "cell_type": "code",
      "source": [
        "def update_centroids(X, clusters, k):\n",
        "  # initialized the centroids array to store new centroids\n",
        "  centroids = np.zeros((k, X.shape[1]))\n",
        "\n",
        "  # loop through the clusters\n",
        "  for cluster_idx in range(k):\n",
        "\n",
        "    # get all data points assigned to the current cluster\n",
        "    cluster_points = [X[i] for i in range(len(X)) if assign_points_to_clusters(X, clusters)[i] == cluster_idx]\n",
        "\n",
        "    # caculate the mean of the points in the current cluster\n",
        "    centroids[cluster_idx] = np.mean(cluster_points)\n",
        "  \n",
        "  # return new centroids\n",
        "  return centroids"
      ],
      "metadata": {
        "id": "1W4YTQ9hRFMu"
      },
      "execution_count": 42,
      "outputs": []
    },
    {
      "cell_type": "code",
      "source": [
        "def kmeans(X, k, max_iters = 100):\n",
        "  # initialize centroids\n",
        "  centroids = initialized_centroids(X, k)\n",
        "\n",
        "  for _ in range(max_iters):\n",
        "    # assign data points to the clusters\n",
        "    clusters  = assign_points_to_clusters(X, centroids)\n",
        "\n",
        "    # update centroids\n",
        "    new_centroids = update_centroids(X, clusters, k)\n",
        "\n",
        "    # check convergence\n",
        "    if np.allclose(new_centroids, centroids):\n",
        "      break\n",
        "\n",
        "    # assign new centroids for the next iteration\n",
        "    centroids = new_centroids\n",
        "\n",
        "  return clusters, centroids"
      ],
      "metadata": {
        "id": "8Jj9hP-uWrSv"
      },
      "execution_count": null,
      "outputs": []
    }
  ]
}