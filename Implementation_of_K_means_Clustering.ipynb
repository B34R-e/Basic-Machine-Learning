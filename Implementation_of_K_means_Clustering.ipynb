{
  "nbformat": 4,
  "nbformat_minor": 0,
  "metadata": {
    "colab": {
      "provenance": [],
      "authorship_tag": "ABX9TyN3Yvz0H6eIE5+6FMms7e2B",
      "include_colab_link": true
    },
    "kernelspec": {
      "name": "python3",
      "display_name": "Python 3"
    },
    "language_info": {
      "name": "python"
    }
  },
  "cells": [
    {
      "cell_type": "markdown",
      "metadata": {
        "id": "view-in-github",
        "colab_type": "text"
      },
      "source": [
        "<a href=\"https://colab.research.google.com/github/B34R-e/Basic-Machine-Learning/blob/main/Implementation_of_K_means_Clustering.ipynb\" target=\"_parent\"><img src=\"https://colab.research.google.com/assets/colab-badge.svg\" alt=\"Open In Colab\"/></a>"
      ]
    },
    {
      "cell_type": "code",
      "execution_count": 107,
      "metadata": {
        "id": "k07H4psu8KNW"
      },
      "outputs": [],
      "source": [
        "import random\n",
        "import numpy as np\n",
        "from numpy.linalg import norm\n",
        "# Initialize k centroids as random points in the data space\n",
        "def initialize_centroids(X, k):\n",
        "  indices = random.sample(range(len(X)), k)\n",
        "  return [X[i] for i in indices]"
      ]
    },
    {
      "cell_type": "code",
      "source": [
        "# Compute the Euclidean distance between each data observation and each centroid\n",
        "def euclidean_distance(p1, p2):\n",
        "  # return math.sqrt(sum(x1 - x2)**2 for x1, x2 in zip(p1, p2))\n",
        "  return norm(np.array(p1) - np.array(p2))"
      ],
      "metadata": {
        "id": "7L8SBa6G9gYv"
      },
      "execution_count": 108,
      "outputs": []
    },
    {
      "cell_type": "code",
      "source": [
        "# Assign each data observation to the closest centroid\n",
        "def assign_points_to_clusters(X, centroids):\n",
        "  clusters = []\n",
        "  for point in X:\n",
        "    distances = [euclidean_distance(point, centroid) for centroid in centroids]\n",
        "    cluster = distances.index(min(distances))\n",
        "    clusters.append(cluster)\n",
        "  return clusters"
      ],
      "metadata": {
        "id": "kRAnb2RN-6GZ"
      },
      "execution_count": 109,
      "outputs": []
    },
    {
      "cell_type": "code",
      "source": [
        "# update each centroid by taking average of all data observations assigned to it\n",
        "def calculate_mean(points):\n",
        "  num_points = len(points)\n",
        "  if num_points == 0:\n",
        "    return []\n",
        "  dimension = len(points[0])\n",
        "  mean = [0] * dimension\n",
        "  for point in points:\n",
        "    for i in range(dimension):\n",
        "      mean[i] += point[i]\n",
        "  return [coor / num_points for coor in mean]\n",
        "\n",
        "def update_centroids(X, clusters, k):\n",
        "  centroids = [[] for _ in range (k)]\n",
        "  for i, cluster in enumerate(clusters):\n",
        "    centroids[cluster].append(X[i])\n",
        "  return [calculate_mean(cluster_points) for cluster_points in centroids]"
      ],
      "metadata": {
        "id": "18OfsZ_yARmK"
      },
      "execution_count": 110,
      "outputs": []
    },
    {
      "cell_type": "code",
      "source": [
        "import random\n",
        "import math\n",
        "from sklearn.datasets import make_blobs\n",
        "import matplotlib.pyplot as plt\n",
        "\n",
        "def has_converged(old_centroids, new_centroids, epsilon = 6):\n",
        "  return all(euclidean_distance(old_centroids[i], new_centroids[i]) < epsilon for i in range(len(old_centroids)))\n",
        "\n",
        "def kmeans(X, k, max_iters = 100):\n",
        "  centroids = initialize_centroids(X, k)\n",
        "\n",
        "  for _ in range(max_iters):\n",
        "    # Assign data points to clusters\n",
        "    clusters = assign_points_to_clusters(X, centroids)\n",
        "\n",
        "    # Update centroids\n",
        "    new_centroids = update_centroids(X, clusters, k)\n",
        "\n",
        "    # Check convergence\n",
        "    if has_converged(centroids, new_centroids):\n",
        "      break\n",
        "\n",
        "    centroids = new_centroids\n",
        "\n",
        "  return (clusters, centroids)"
      ],
      "metadata": {
        "id": "DdaOD6S_Biaa"
      },
      "execution_count": 111,
      "outputs": []
    },
    {
      "cell_type": "code",
      "source": [
        "# Example usage:\n",
        "\n",
        "X , _ = make_blobs(n_samples =200 ,centers = 3 ,random_state = 42)\n",
        "(clusters, centroids) = kmeans(X, k = 3)"
      ],
      "metadata": {
        "id": "vPjFZ6rolD62"
      },
      "execution_count": 112,
      "outputs": []
    }
  ]
}