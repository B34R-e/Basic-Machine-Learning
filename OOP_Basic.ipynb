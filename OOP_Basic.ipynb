{
  "nbformat": 4,
  "nbformat_minor": 0,
  "metadata": {
    "colab": {
      "provenance": [],
      "authorship_tag": "ABX9TyMwqNRm3pPiNnwL6f/ceJrP",
      "include_colab_link": true
    },
    "kernelspec": {
      "name": "python3",
      "display_name": "Python 3"
    },
    "language_info": {
      "name": "python"
    }
  },
  "cells": [
    {
      "cell_type": "markdown",
      "metadata": {
        "id": "view-in-github",
        "colab_type": "text"
      },
      "source": [
        "<a href=\"https://colab.research.google.com/github/B34R-e/Basic-Machine-Learning/blob/main/OOP_Basic.ipynb\" target=\"_parent\"><img src=\"https://colab.research.google.com/assets/colab-badge.svg\" alt=\"Open In Colab\"/></a>"
      ]
    },
    {
      "cell_type": "markdown",
      "source": [
        "Bài tập 1."
      ],
      "metadata": {
        "id": "LI5Mq1vvLRuY"
      }
    },
    {
      "cell_type": "code",
      "execution_count": 56,
      "metadata": {
        "id": "UhWYUXWGHfsr"
      },
      "outputs": [],
      "source": [
        "class Device:\n",
        "  def __init__(self, name, price, identity, location):\n",
        "    self._manufacturer = Manufacturer(identity, location)\n",
        "    self._name = name\n",
        "    self._price = price\n",
        "    \n",
        "  def describe(self):\n",
        "    print(f'>> Name: {self._name} - Price: {self._price}')\n",
        "    self._manufacturer.describe()"
      ]
    },
    {
      "cell_type": "code",
      "source": [
        "class Manufacturer:\n",
        "  def __init__(self, identity, location):\n",
        "    self._identity = identity\n",
        "    self._location = location\n",
        "\n",
        "  def describe(self):\n",
        "    print(f'Identity: {self._identity} - Location: {self._location}')"
      ],
      "metadata": {
        "id": "H6j6Qwh3H6m8"
      },
      "execution_count": 57,
      "outputs": []
    },
    {
      "cell_type": "code",
      "source": [
        "device1 = Device(name = 'mouse', price = 2.5, identity = 9725, location = 'Vietnam')\n",
        "device1.describe()\n",
        "\n",
        "device2 = Device(name = 'monitor', price = 12.5, identity = 11, location = 'Germany')\n",
        "device2.describe()"
      ],
      "metadata": {
        "colab": {
          "base_uri": "https://localhost:8080/"
        },
        "id": "AG5IgPV1Iyuz",
        "outputId": "799f3a4c-f814-4ed0-ec39-354a7c55952c"
      },
      "execution_count": 58,
      "outputs": [
        {
          "output_type": "stream",
          "name": "stdout",
          "text": [
            ">> Name: mouse - Price: 2.5\n",
            "Identity: 9725 - Location: Vietnam\n",
            ">> Name: monitor - Price: 12.5\n",
            "Identity: 11 - Location: Germany\n"
          ]
        }
      ]
    },
    {
      "cell_type": "markdown",
      "source": [
        "Bài tập 2."
      ],
      "metadata": {
        "id": "YP8qzribLXSW"
      }
    },
    {
      "cell_type": "code",
      "source": [
        "class Ward:\n",
        "  def __init__(self, name):\n",
        "    self._name = name\n",
        "    self._people_list = []\n",
        "  def addPerson(self, Person):\n",
        "    self._people_list.append(Person)\n",
        "\n",
        "  def describe(self):\n",
        "    print(f'>> Ward name: {self._name}')\n",
        "    for each in self._people_list:\n",
        "      each.describe()\n",
        "    # for i in range(len(self._people_list)):\n",
        "    #   self._people_list[i].describe()\n",
        "\n",
        "  def countDoctor(self):\n",
        "    count = 0\n",
        "    for each in self._people_list:\n",
        "      if type(each) == Doctor:\n",
        "        count += 1\n",
        "    return count\n",
        "\n",
        "  def sortAge(self):\n",
        "    # self._people_list.sort(reverse = True, key = self._people_list[1].get_yob())\n",
        "    for i in range(len(self._people_list) - 1):\n",
        "      for ii in range(0, len(self._people_list) - i - 1):\n",
        "        if self._people_list[ii].get_yob() > self._people_list[ii + 1].get_yob():\n",
        "          self._people_list[ii], self._people_list[ii + 1] = self._people_list[ii + 1], self._people_list[ii]\n",
        "\n",
        "  def aveTeacherYearOfBirth(self):\n",
        "    year_of_birth_of_all_teachers = [each.get_yob() for each in self._people_list if type(each) == Teacher]\n",
        "    return sum(year_of_birth_of_all_teachers) / len(year_of_birth_of_all_teachers)"
      ],
      "metadata": {
        "id": "xNhqT987LX_e"
      },
      "execution_count": 207,
      "outputs": []
    },
    {
      "cell_type": "code",
      "source": [
        "class Student:\n",
        "  def __init__(self, name, yob, grade):\n",
        "    self._name = name\n",
        "    self._yob = yob\n",
        "    self._grade = grade\n",
        "\n",
        "  def get_yob(self):\n",
        "    return self._yob\n",
        "\n",
        "  def describe(self):\n",
        "    print(f'>> Student - Name: {self._name} - YoB: {self._yob} - Grade: {self._grade}')"
      ],
      "metadata": {
        "id": "NGMIr5nlL6w3"
      },
      "execution_count": 208,
      "outputs": []
    },
    {
      "cell_type": "code",
      "source": [
        "class Teacher:\n",
        "  def __init__(self, name, yob, subject):\n",
        "    self._name = name\n",
        "    self._yob = yob\n",
        "    self._subject = subject\n",
        "\n",
        "  def get_yob(self):\n",
        "    return self._yob\n",
        "    \n",
        "  def describe(self):\n",
        "    print(f'>> Teacher - Name: {self._name} - YoB: {self._yob} - Subject: {self._subject}')  "
      ],
      "metadata": {
        "id": "S6B8EByLMR03"
      },
      "execution_count": 209,
      "outputs": []
    },
    {
      "cell_type": "code",
      "source": [
        "class Doctor:\n",
        "  def __init__(self, name, yob, specialist):\n",
        "    self._name = name\n",
        "    self._yob = yob\n",
        "    self._specialist = specialist\n",
        "\n",
        "  def get_yob(self):\n",
        "    return self._yob\n",
        "  \n",
        "  def describe(self):\n",
        "    print(f'>> Student - Name: {self._name} - YoB: {self._yob} - Specialist: {self._specialist}')"
      ],
      "metadata": {
        "id": "D5gxHKJ9Mi8H"
      },
      "execution_count": 210,
      "outputs": []
    },
    {
      "cell_type": "code",
      "source": [
        "student1 = Student(name =\"studentA\", yob = 2010 , grade =\"7\")\n",
        "student1.describe()"
      ],
      "metadata": {
        "colab": {
          "base_uri": "https://localhost:8080/"
        },
        "id": "ZdopQS5LOJFh",
        "outputId": "30bbd47e-8627-48d6-891f-a6228a2dbc25"
      },
      "execution_count": 211,
      "outputs": [
        {
          "output_type": "stream",
          "name": "stdout",
          "text": [
            ">> Student - Name: studentA - YoB: 2010 - Grade: 7\n"
          ]
        }
      ]
    },
    {
      "cell_type": "code",
      "source": [
        "teacher1 = Teacher(name =\"teacherA\", yob = 1969 , subject = \"Math\")\n",
        "teacher1.describe()"
      ],
      "metadata": {
        "colab": {
          "base_uri": "https://localhost:8080/"
        },
        "id": "m5WJa3IMQqVV",
        "outputId": "ddbdae46-49f3-40d8-be9b-2929ff717850"
      },
      "execution_count": 212,
      "outputs": [
        {
          "output_type": "stream",
          "name": "stdout",
          "text": [
            ">> Teacher - Name: teacherA - YoB: 1969 - Subject: Math\n"
          ]
        }
      ]
    },
    {
      "cell_type": "code",
      "source": [
        "doctor1 = Doctor( name = \"doctorA\", yob = 1945 , specialist = \"Endocrinologists\")\n",
        "doctor1.describe()"
      ],
      "metadata": {
        "colab": {
          "base_uri": "https://localhost:8080/"
        },
        "id": "RvL-_bYYQ0NR",
        "outputId": "ca2adc95-750b-41a1-820b-e6223f003b72"
      },
      "execution_count": 213,
      "outputs": [
        {
          "output_type": "stream",
          "name": "stdout",
          "text": [
            ">> Student - Name: doctorA - YoB: 1945 - Specialist: Endocrinologists\n"
          ]
        }
      ]
    },
    {
      "cell_type": "code",
      "source": [
        "teacher2 = Teacher (name = \"teacherB \", yob = 1995 , subject = \"History\")\n",
        "doctor2 = Doctor (name = \"doctorB \", yob = 1975 , specialist = \"Cardiologists\")\n",
        "ward1 = Ward (name = \"Ward1\")\n",
        "ward1.addPerson(student1)\n",
        "ward1.addPerson(teacher1)\n",
        "ward1.addPerson(teacher2)\n",
        "ward1.addPerson(doctor1)\n",
        "ward1.addPerson(doctor2)\n",
        "ward1.describe()"
      ],
      "metadata": {
        "colab": {
          "base_uri": "https://localhost:8080/"
        },
        "id": "hQQpnhwtQ8C1",
        "outputId": "a1591c50-6d45-4a39-a443-2b4aed3648ef"
      },
      "execution_count": 214,
      "outputs": [
        {
          "output_type": "stream",
          "name": "stdout",
          "text": [
            ">> Ward name: Ward1\n",
            ">> Student - Name: studentA - YoB: 2010 - Grade: 7\n",
            ">> Teacher - Name: teacherA - YoB: 1969 - Subject: Math\n",
            ">> Teacher - Name: teacherB  - YoB: 1995 - Subject: History\n",
            ">> Student - Name: doctorA - YoB: 1945 - Specialist: Endocrinologists\n",
            ">> Student - Name: doctorB  - YoB: 1975 - Specialist: Cardiologists\n"
          ]
        }
      ]
    },
    {
      "cell_type": "code",
      "source": [
        "print(f\"Number of doctors : {ward1.countDoctor()}\")"
      ],
      "metadata": {
        "colab": {
          "base_uri": "https://localhost:8080/"
        },
        "id": "_nnnQj_vRPM9",
        "outputId": "4beb2c78-caa3-4e6c-98fa-abaa7e75a1ef"
      },
      "execution_count": 215,
      "outputs": [
        {
          "output_type": "stream",
          "name": "stdout",
          "text": [
            "Number of doctors : 2\n"
          ]
        }
      ]
    },
    {
      "cell_type": "code",
      "source": [
        "print(\"After sorting Age of Ward1 people\")\n",
        "ward1.sortAge()\n",
        "ward1.describe()"
      ],
      "metadata": {
        "colab": {
          "base_uri": "https://localhost:8080/"
        },
        "id": "Dy63ZJt4UATH",
        "outputId": "ff860e2f-aba7-4748-f96a-8b83234ef112"
      },
      "execution_count": 216,
      "outputs": [
        {
          "output_type": "stream",
          "name": "stdout",
          "text": [
            "After sorting Age of Ward1 people\n",
            ">> Ward name: Ward1\n",
            ">> Student - Name: doctorA - YoB: 1945 - Specialist: Endocrinologists\n",
            ">> Teacher - Name: teacherA - YoB: 1969 - Subject: Math\n",
            ">> Student - Name: doctorB  - YoB: 1975 - Specialist: Cardiologists\n",
            ">> Teacher - Name: teacherB  - YoB: 1995 - Subject: History\n",
            ">> Student - Name: studentA - YoB: 2010 - Grade: 7\n"
          ]
        }
      ]
    },
    {
      "cell_type": "code",
      "source": [
        "print(f\"Average year of birth (teachers): {ward1.aveTeacherYearOfBirth ()}\")"
      ],
      "metadata": {
        "colab": {
          "base_uri": "https://localhost:8080/"
        },
        "id": "1IrrvzFMUSLU",
        "outputId": "864d2c82-0d86-42f3-aba2-8b0d847e66da"
      },
      "execution_count": 217,
      "outputs": [
        {
          "output_type": "stream",
          "name": "stdout",
          "text": [
            "Average year of birth (teachers): 1982.0\n"
          ]
        }
      ]
    },
    {
      "cell_type": "markdown",
      "source": [
        "Bài 3."
      ],
      "metadata": {
        "id": "wZ75ZX2uhd4R"
      }
    },
    {
      "cell_type": "code",
      "source": [
        "class MyStack():\n",
        "  def __init__(self, capacity):\n",
        "    self._capacity = capacity\n",
        "    self._stack = []\n",
        "\n",
        "  def isEmpty(self):\n",
        "    if not len(self._stack):\n",
        "      return True\n",
        "    else:\n",
        "      return False\n",
        "\n",
        "  def isFull(self):\n",
        "    if len(self._stack) == self._capacity:\n",
        "      return True\n",
        "    else:\n",
        "      return False\n",
        "\n",
        "  def pop(self):\n",
        "    return self._stack.pop()\n",
        "  \n",
        "  def push(self, value):\n",
        "    return self._stack.insert(len(self._stack) - 1, value)\n",
        "\n",
        "  def top(self):\n",
        "    return self._stack[len(self._stack) - 1]"
      ],
      "metadata": {
        "id": "_TlXdimmZ7yX"
      },
      "execution_count": 228,
      "outputs": []
    },
    {
      "cell_type": "code",
      "source": [
        "stack1 = MyStack(capacity = 5)\n",
        "\n",
        "stack1.push(1)\n",
        "\n",
        "stack1.push(2)\n",
        "\n",
        "print(stack1.isFull())\n",
        "\n",
        "print(stack1.top())\n",
        "\n",
        "print(stack1.pop())\n",
        "\n",
        "print(stack1.top())\n",
        "\n",
        "print(stack1.pop())\n",
        "\n",
        "print(stack1.isEmpty())"
      ],
      "metadata": {
        "colab": {
          "base_uri": "https://localhost:8080/"
        },
        "id": "iliQr5Tojv5Y",
        "outputId": "bf2cfc38-7ba4-4631-d0d7-006950304b9a"
      },
      "execution_count": 229,
      "outputs": [
        {
          "output_type": "stream",
          "name": "stdout",
          "text": [
            "False\n",
            "1\n",
            "1\n",
            "2\n",
            "2\n",
            "True\n"
          ]
        }
      ]
    },
    {
      "cell_type": "markdown",
      "source": [
        "Bài 4."
      ],
      "metadata": {
        "id": "dSp9pDwkk1XV"
      }
    },
    {
      "cell_type": "code",
      "source": [
        "class MyQueue:\n",
        "  def __init__(self, capacity):\n",
        "    self._capacity = capacity\n",
        "    self._queue = []\n",
        "  \n",
        "  def isEmpty(self):\n",
        "    if not len(self._queue):\n",
        "      return True\n",
        "    else:\n",
        "      return False\n",
        "\n",
        "  def isFull(self):\n",
        "    if len(self._queue) == self._capacity:\n",
        "      return True\n",
        "    else:\n",
        "      return False\n",
        "\n",
        "  def dequeue(self):\n",
        "    return self._queue.pop(0)\n",
        "  \n",
        "  def enqueue(self, value):\n",
        "    return self._queue.append(value)\n",
        "\n",
        "  def front(self):\n",
        "    return self._queue[0]"
      ],
      "metadata": {
        "id": "6HJo8gibj7XU"
      },
      "execution_count": 232,
      "outputs": []
    },
    {
      "cell_type": "code",
      "source": [
        "queue1 = MyQueue(capacity = 5)\n",
        "\n",
        "queue1.enqueue(1)\n",
        "\n",
        "queue1.enqueue(2)\n",
        "\n",
        "print(queue1.isFull())\n",
        "\n",
        "print(queue1.front())\n",
        "\n",
        "print(queue1.dequeue())\n",
        "\n",
        "print(queue1.front())\n",
        "\n",
        "print(queue1.dequeue())\n",
        "\n",
        "print(queue1.isEmpty())"
      ],
      "metadata": {
        "colab": {
          "base_uri": "https://localhost:8080/"
        },
        "id": "oN_Vjg45lne9",
        "outputId": "5a96f9f8-7fcb-4ff2-9d5f-658d47d57a93"
      },
      "execution_count": 233,
      "outputs": [
        {
          "output_type": "stream",
          "name": "stdout",
          "text": [
            "False\n",
            "1\n",
            "1\n",
            "2\n",
            "2\n",
            "True\n"
          ]
        }
      ]
    }
  ]
}