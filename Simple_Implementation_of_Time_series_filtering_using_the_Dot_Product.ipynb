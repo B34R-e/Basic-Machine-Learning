{
  "nbformat": 4,
  "nbformat_minor": 0,
  "metadata": {
    "colab": {
      "provenance": [],
      "authorship_tag": "ABX9TyMs63W63YSfWkSU5HiOwFzD",
      "include_colab_link": true
    },
    "kernelspec": {
      "name": "python3",
      "display_name": "Python 3"
    },
    "language_info": {
      "name": "python"
    }
  },
  "cells": [
    {
      "cell_type": "markdown",
      "metadata": {
        "id": "view-in-github",
        "colab_type": "text"
      },
      "source": [
        "<a href=\"https://colab.research.google.com/github/B34R-e/Basic-Machine-Learning/blob/main/Simple_Implementation_of_Time_series_filtering_using_the_Dot_Product.ipynb\" target=\"_parent\"><img src=\"https://colab.research.google.com/assets/colab-badge.svg\" alt=\"Open In Colab\"/></a>"
      ]
    },
    {
      "cell_type": "code",
      "execution_count": 1,
      "metadata": {
        "id": "JN8sXUn61KPw"
      },
      "outputs": [],
      "source": [
        "import numpy as np\n",
        "import math\n",
        "\n",
        "def time_series_filtering(data, kernel):\n",
        "  filtered_signal = []\n",
        "  kernel_length = len(kernel)\n",
        "  data_length = len(data)\n",
        "\n",
        "  for i in range(data_length):\n",
        "    if i + kernel_length <= data_length:\n",
        "      snippet = data[i : i+kernel_length]\n",
        "      # dot_product = sum(a * b for a, b in zip(snippet, kernel))\n",
        "      dot_product = snippet.dot(kernel)\n",
        "      filtered_signal.append(dot_product)\n",
        "  \n",
        "  return filtered_signal"
      ]
    }
  ]
}